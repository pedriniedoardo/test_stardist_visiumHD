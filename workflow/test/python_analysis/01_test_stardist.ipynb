{
 "cells": [
  {
   "cell_type": "code",
   "execution_count": 1,
   "id": "6761dc05",
   "metadata": {},
   "outputs": [
    {
     "name": "stderr",
     "output_type": "stream",
     "text": [
      "2025-04-18 16:42:48.999444: I tensorflow/core/util/port.cc:153] oneDNN custom operations are on. You may see slightly different numerical results due to floating-point round-off errors from different computation orders. To turn them off, set the environment variable `TF_ENABLE_ONEDNN_OPTS=0`.\n",
      "2025-04-18 16:42:49.028764: I tensorflow/core/platform/cpu_feature_guard.cc:210] This TensorFlow binary is optimized to use available CPU instructions in performance-critical operations.\n",
      "To enable the following instructions: SSE4.1 SSE4.2 AVX AVX2 AVX512F AVX512_VNNI FMA, in other operations, rebuild TensorFlow with the appropriate compiler flags.\n"
     ]
    }
   ],
   "source": [
    "# ======================================================================\n",
    "# == load the libraries ==\n",
    "# ======================================================================\n",
    "\n",
    "from stardist.data import test_image_nuclei_2d\n",
    "from stardist.plot import render_label\n",
    "from stardist.models import StarDist2D\n",
    "from shapely.geometry import Polygon, Point\n",
    "import matplotlib.image\n",
    "import matplotlib.pyplot as plt\n",
    "import matplotlib.image as mpimg\n",
    "import matplotlib.patches as patches\n",
    "import pandas as pd\n",
    "import numpy as np\n",
    "import seaborn as sns\n",
    "import PIL\n",
    "import tifffile\n",
    "import sys\n",
    "import pickle\n"
   ]
  },
  {
   "cell_type": "code",
   "execution_count": 3,
   "id": "c30ad548",
   "metadata": {},
   "outputs": [],
   "source": [
    "# ======================================================================\n",
    "# == definition of custom functions ==\n",
    "# ======================================================================\n",
    "\n",
    "from custom_functions import custom_normalize"
   ]
  },
  {
   "cell_type": "code",
   "execution_count": 5,
   "id": "c3c67f87",
   "metadata": {},
   "outputs": [],
   "source": [
    "# ======================================================================\n",
    "# == processing ==\n",
    "# ======================================================================\n",
    "\n",
    "# --- read in the input image ---\n",
    "\n",
    "# img hires\n",
    "PIL.Image.MAX_IMAGE_PIXELS = 1718032108\n",
    "img = tifffile.imread(\"../../../../data/Mouse_Embryo/Visium_HD_Mouse_Embryo_tissue_image.btf\")\n",
    "img = img[:,:,0:3]\n",
    "\n",
    "# image type\n",
    "hist_img = \"H&E\"\n",
    "\n",
    "# stardist parameters\n",
    "# prob_thresh\n",
    "# nms_thresh"
   ]
  },
  {
   "cell_type": "code",
   "execution_count": 6,
   "id": "0cbad196",
   "metadata": {},
   "outputs": [],
   "source": [
    "# --- run custom normalization ---\n",
    "\n",
    "normalized_img = custom_normalize(img)\n"
   ]
  },
  {
   "cell_type": "code",
   "execution_count": 7,
   "id": "52d0525f",
   "metadata": {},
   "outputs": [
    {
     "name": "stdout",
     "output_type": "stream",
     "text": [
      "Found model '2D_versatile_he' for 'StarDist2D'.\n",
      "Loading network weights from 'weights_best.h5'.\n",
      "Loading thresholds from 'thresholds.json'.\n",
      "Using default values: prob_thresh=0.692478, nms_thresh=0.3.\n"
     ]
    }
   ],
   "source": [
    "# --- select approprote stardist model ---\n",
    "\n",
    "if hist_img == \"H&E\":\n",
    "    model_stardist = \"2D_versatile_he\"\n",
    "elif hist_img == \"IF\":\n",
    "    model_stardist = \"2D_versatile_fluo\"\n",
    "\n",
    "model = StarDist2D.from_pretrained(model_stardist)"
   ]
  },
  {
   "cell_type": "code",
   "execution_count": null,
   "id": "7725a9cb",
   "metadata": {},
   "outputs": [],
   "source": [
    "# --- run the model ---\n",
    "\n",
    "# here is running with default parameters for prob_thresh and nms_thresh\n",
    "labels, polys = model.predict_instances_big(\n",
    "    normalized_img, axes='YXC', block_size=4096, min_overlap=128, context=128,\n",
    "    normalizer=None, # n_tiles=(4,4,1),\n",
    "    prob_thresh = .05)"
   ]
  },
  {
   "cell_type": "code",
   "execution_count": null,
   "id": "857b78b3",
   "metadata": {},
   "outputs": [],
   "source": [
    "# ======================================================================\n",
    "# == save the output ==\n",
    "# ======================================================================\n",
    "\n",
    "with open(\"../../../../data/Mouse_Embryo/nuclei_polys.pkl\", \"wb\") as f:  # open a text file\n",
    "    pickle.dump(polys, f)"
   ]
  }
 ],
 "metadata": {
  "kernelspec": {
   "display_name": "env_stardist",
   "language": "python",
   "name": "python3"
  },
  "language_info": {
   "codemirror_mode": {
    "name": "ipython",
    "version": 3
   },
   "file_extension": ".py",
   "mimetype": "text/x-python",
   "name": "python",
   "nbconvert_exporter": "python",
   "pygments_lexer": "ipython3",
   "version": "3.11.12"
  }
 },
 "nbformat": 4,
 "nbformat_minor": 5
}
