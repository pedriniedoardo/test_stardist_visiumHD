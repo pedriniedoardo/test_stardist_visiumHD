{
 "cells": [
  {
   "cell_type": "code",
   "execution_count": 1,
   "metadata": {},
   "outputs": [],
   "source": [
    "import pandas as pd\n",
    "\n",
    "df = pd.read_csv(\"../../../config/VisiumHD_datasets_small.csv\")"
   ]
  },
  {
   "cell_type": "code",
   "execution_count": 2,
   "metadata": {},
   "outputs": [
    {
     "name": "stdout",
     "output_type": "stream",
     "text": [
      "(0, sample_id                                                     Mouse_Embryo\n",
      "Species                                                              Mouse\n",
      "specie_code                                                             Mm\n",
      "Tissue                                                              Embryo\n",
      "Sample_type                                                           FFPE\n",
      "Histological_image                                                     H&E\n",
      "img_ext                                                                btf\n",
      "Sex                                                                      M\n",
      "Disease_state                                                      healthy\n",
      "Probe_set                                                             v2.0\n",
      "sequencing_instrument                                Illumina NovaSeq 6000\n",
      "sequencing_depth                                                    403.1M\n",
      "Space_Ranger                                                          v3.0\n",
      "age                                                                 E 15.5\n",
      "mouse_strain                                                       C57BL/6\n",
      "Ref_dataset_RCTD                                                       NaN\n",
      "notes                                                                  NaN\n",
      "link_rawImage            https://cf.10xgenomics.com/samples/spatial-exp...\n",
      "link_spatial             https://cf.10xgenomics.com/samples/spatial-exp...\n",
      "link_counts              https://cf.10xgenomics.com/samples/spatial-exp...\n",
      "Name: 0, dtype: object)\n",
      "(1, sample_id                                                   Human_Pancreas\n",
      "Species                                                              Human\n",
      "specie_code                                                             Hs\n",
      "Tissue                                                            Pancreas\n",
      "Sample_type                                                           FFPE\n",
      "Histological_image                                                     H&E\n",
      "img_ext                                                                btf\n",
      "Sex                                                                      F\n",
      "Disease_state                                                      healthy\n",
      "Probe_set                                                             v2.0\n",
      "sequencing_instrument                                Illumina NovaSeq 6000\n",
      "sequencing_depth                                                      418M\n",
      "Space_Ranger                                                          v3.0\n",
      "age                                                                    NaN\n",
      "mouse_strain                                                           NaN\n",
      "Ref_dataset_RCTD                                                       NaN\n",
      "notes                                                                  NaN\n",
      "link_rawImage            https://cf.10xgenomics.com/samples/spatial-exp...\n",
      "link_spatial             https://cf.10xgenomics.com/samples/spatial-exp...\n",
      "link_counts              https://cf.10xgenomics.com/samples/spatial-exp...\n",
      "Name: 1, dtype: object)\n"
     ]
    }
   ],
   "source": [
    "for test in df.iterrows():\n",
    "    print(test)"
   ]
  },
  {
   "cell_type": "code",
   "execution_count": 3,
   "metadata": {},
   "outputs": [
    {
     "name": "stdout",
     "output_type": "stream",
     "text": [
      "Mouse_Embryo\n",
      "Human_Pancreas\n"
     ]
    }
   ],
   "source": [
    "for _,row in df.iterrows():\n",
    "    print(row[\"sample_id\"])"
   ]
  },
  {
   "cell_type": "code",
   "execution_count": 4,
   "metadata": {},
   "outputs": [],
   "source": [
    "SAMPLES = {\n",
    "    row[\"sample_id\"]: {\n",
    "        \"link_rawImage\": row[\"link_rawImage\"],\n",
    "        \"link_counts\": row[\"link_counts\"]\n",
    "    }\n",
    "    for _, row in df.iterrows()\n",
    "}\n"
   ]
  },
  {
   "cell_type": "code",
   "execution_count": 5,
   "metadata": {},
   "outputs": [
    {
     "data": {
      "text/plain": [
       "{'Mouse_Embryo': {'link_rawImage': 'https://cf.10xgenomics.com/samples/spatial-exp/3.0.0/Visium_HD_Mouse_Embryo/Visium_HD_Mouse_Embryo_tissue_image.btf',\n",
       "  'link_counts': 'https://cf.10xgenomics.com/samples/spatial-exp/3.0.0/Visium_HD_Mouse_Embryo/Visium_HD_Mouse_Embryo_binned_outputs.tar.gz'},\n",
       " 'Human_Pancreas': {'link_rawImage': 'https://cf.10xgenomics.com/samples/spatial-exp/3.0.0/Visium_HD_Human_Pancreas/Visium_HD_Human_Pancreas_tissue_image.btf',\n",
       "  'link_counts': 'https://cf.10xgenomics.com/samples/spatial-exp/3.0.0/Visium_HD_Human_Pancreas/Visium_HD_Human_Pancreas_binned_outputs.tar.gz'}}"
      ]
     },
     "execution_count": 5,
     "metadata": {},
     "output_type": "execute_result"
    }
   ],
   "source": [
    "SAMPLES"
   ]
  },
  {
   "cell_type": "code",
   "execution_count": 6,
   "metadata": {},
   "outputs": [
    {
     "data": {
      "text/html": [
       "<div>\n",
       "<style scoped>\n",
       "    .dataframe tbody tr th:only-of-type {\n",
       "        vertical-align: middle;\n",
       "    }\n",
       "\n",
       "    .dataframe tbody tr th {\n",
       "        vertical-align: top;\n",
       "    }\n",
       "\n",
       "    .dataframe thead th {\n",
       "        text-align: right;\n",
       "    }\n",
       "</style>\n",
       "<table border=\"1\" class=\"dataframe\">\n",
       "  <thead>\n",
       "    <tr style=\"text-align: right;\">\n",
       "      <th></th>\n",
       "      <th>sample_id</th>\n",
       "      <th>Species</th>\n",
       "      <th>specie_code</th>\n",
       "      <th>Tissue</th>\n",
       "      <th>Sample_type</th>\n",
       "      <th>Histological_image</th>\n",
       "      <th>img_ext</th>\n",
       "      <th>Sex</th>\n",
       "      <th>Disease_state</th>\n",
       "      <th>Probe_set</th>\n",
       "      <th>sequencing_instrument</th>\n",
       "      <th>sequencing_depth</th>\n",
       "      <th>Space_Ranger</th>\n",
       "      <th>age</th>\n",
       "      <th>mouse_strain</th>\n",
       "      <th>Ref_dataset_RCTD</th>\n",
       "      <th>notes</th>\n",
       "      <th>link_rawImage</th>\n",
       "      <th>link_spatial</th>\n",
       "      <th>link_counts</th>\n",
       "    </tr>\n",
       "  </thead>\n",
       "  <tbody>\n",
       "    <tr>\n",
       "      <th>0</th>\n",
       "      <td>Mouse_Embryo</td>\n",
       "      <td>Mouse</td>\n",
       "      <td>Mm</td>\n",
       "      <td>Embryo</td>\n",
       "      <td>FFPE</td>\n",
       "      <td>H&amp;E</td>\n",
       "      <td>btf</td>\n",
       "      <td>M</td>\n",
       "      <td>healthy</td>\n",
       "      <td>v2.0</td>\n",
       "      <td>Illumina NovaSeq 6000</td>\n",
       "      <td>403.1M</td>\n",
       "      <td>v3.0</td>\n",
       "      <td>E 15.5</td>\n",
       "      <td>C57BL/6</td>\n",
       "      <td>NaN</td>\n",
       "      <td>NaN</td>\n",
       "      <td>https://cf.10xgenomics.com/samples/spatial-exp...</td>\n",
       "      <td>https://cf.10xgenomics.com/samples/spatial-exp...</td>\n",
       "      <td>https://cf.10xgenomics.com/samples/spatial-exp...</td>\n",
       "    </tr>\n",
       "    <tr>\n",
       "      <th>1</th>\n",
       "      <td>Human_Pancreas</td>\n",
       "      <td>Human</td>\n",
       "      <td>Hs</td>\n",
       "      <td>Pancreas</td>\n",
       "      <td>FFPE</td>\n",
       "      <td>H&amp;E</td>\n",
       "      <td>btf</td>\n",
       "      <td>F</td>\n",
       "      <td>healthy</td>\n",
       "      <td>v2.0</td>\n",
       "      <td>Illumina NovaSeq 6000</td>\n",
       "      <td>418M</td>\n",
       "      <td>v3.0</td>\n",
       "      <td>NaN</td>\n",
       "      <td>NaN</td>\n",
       "      <td>NaN</td>\n",
       "      <td>NaN</td>\n",
       "      <td>https://cf.10xgenomics.com/samples/spatial-exp...</td>\n",
       "      <td>https://cf.10xgenomics.com/samples/spatial-exp...</td>\n",
       "      <td>https://cf.10xgenomics.com/samples/spatial-exp...</td>\n",
       "    </tr>\n",
       "  </tbody>\n",
       "</table>\n",
       "</div>"
      ],
      "text/plain": [
       "        sample_id Species specie_code    Tissue Sample_type  \\\n",
       "0    Mouse_Embryo   Mouse          Mm    Embryo        FFPE   \n",
       "1  Human_Pancreas   Human          Hs  Pancreas        FFPE   \n",
       "\n",
       "  Histological_image img_ext Sex Disease_state Probe_set  \\\n",
       "0                H&E     btf   M       healthy      v2.0   \n",
       "1                H&E     btf   F       healthy      v2.0   \n",
       "\n",
       "   sequencing_instrument sequencing_depth Space_Ranger     age mouse_strain  \\\n",
       "0  Illumina NovaSeq 6000           403.1M         v3.0  E 15.5      C57BL/6   \n",
       "1  Illumina NovaSeq 6000             418M         v3.0     NaN          NaN   \n",
       "\n",
       "   Ref_dataset_RCTD  notes                                      link_rawImage  \\\n",
       "0               NaN    NaN  https://cf.10xgenomics.com/samples/spatial-exp...   \n",
       "1               NaN    NaN  https://cf.10xgenomics.com/samples/spatial-exp...   \n",
       "\n",
       "                                        link_spatial  \\\n",
       "0  https://cf.10xgenomics.com/samples/spatial-exp...   \n",
       "1  https://cf.10xgenomics.com/samples/spatial-exp...   \n",
       "\n",
       "                                         link_counts  \n",
       "0  https://cf.10xgenomics.com/samples/spatial-exp...  \n",
       "1  https://cf.10xgenomics.com/samples/spatial-exp...  "
      ]
     },
     "execution_count": 6,
     "metadata": {},
     "output_type": "execute_result"
    }
   ],
   "source": [
    "df"
   ]
  },
  {
   "cell_type": "code",
   "execution_count": 7,
   "metadata": {},
   "outputs": [
    {
     "name": "stdout",
     "output_type": "stream",
     "text": [
      "Mouse_Embryo\n",
      "Human_Pancreas\n"
     ]
    }
   ],
   "source": [
    "for row in df.itertuples():\n",
    "    print(row.sample_id)"
   ]
  },
  {
   "cell_type": "code",
   "execution_count": 8,
   "metadata": {},
   "outputs": [
    {
     "name": "stdout",
     "output_type": "stream",
     "text": [
      "Embryo\n",
      "Pancreas\n"
     ]
    }
   ],
   "source": [
    "for row in df.itertuples():\n",
    "    print(row.Tissue)"
   ]
  },
  {
   "cell_type": "code",
   "execution_count": 9,
   "metadata": {},
   "outputs": [
    {
     "data": {
      "text/plain": [
       "{'Mouse_Embryo': {'link_rawImage': 'https://cf.10xgenomics.com/samples/spatial-exp/3.0.0/Visium_HD_Mouse_Embryo/Visium_HD_Mouse_Embryo_tissue_image.btf',\n",
       "  'link_counts': 'https://cf.10xgenomics.com/samples/spatial-exp/3.0.0/Visium_HD_Mouse_Embryo/Visium_HD_Mouse_Embryo_binned_outputs.tar.gz',\n",
       "  'hist_img': 'H&E',\n",
       "  'species': 'Mm'},\n",
       " 'Human_Pancreas': {'link_rawImage': 'https://cf.10xgenomics.com/samples/spatial-exp/3.0.0/Visium_HD_Human_Pancreas/Visium_HD_Human_Pancreas_tissue_image.btf',\n",
       "  'link_counts': 'https://cf.10xgenomics.com/samples/spatial-exp/3.0.0/Visium_HD_Human_Pancreas/Visium_HD_Human_Pancreas_binned_outputs.tar.gz',\n",
       "  'hist_img': 'H&E',\n",
       "  'species': 'Hs'}}"
      ]
     },
     "execution_count": 9,
     "metadata": {},
     "output_type": "execute_result"
    }
   ],
   "source": [
    "SAMPLES = {\n",
    "    row.sample_id: {\n",
    "        \"link_rawImage\": row.link_rawImage,\n",
    "        \"link_counts\": row.link_counts,\n",
    "        \"hist_img\": row.Histological_image,\n",
    "        \"species\": row.specie_code\n",
    "    }\n",
    "    for row in df.itertuples(index=False)\n",
    "}\n",
    "SAMPLES"
   ]
  }
 ],
 "metadata": {
  "kernelspec": {
   "display_name": "env_snakemake",
   "language": "python",
   "name": "python3"
  },
  "language_info": {
   "codemirror_mode": {
    "name": "ipython",
    "version": 3
   },
   "file_extension": ".py",
   "mimetype": "text/x-python",
   "name": "python",
   "nbconvert_exporter": "python",
   "pygments_lexer": "ipython3",
   "version": "3.12.2"
  }
 },
 "nbformat": 4,
 "nbformat_minor": 2
}
