{
 "cells": [
  {
   "cell_type": "code",
   "execution_count": 1,
   "id": "4acbc214",
   "metadata": {},
   "outputs": [
    {
     "name": "stderr",
     "output_type": "stream",
     "text": [
      "2025-04-16 18:31:03.336343: I tensorflow/core/util/port.cc:153] oneDNN custom operations are on. You may see slightly different numerical results due to floating-point round-off errors from different computation orders. To turn them off, set the environment variable `TF_ENABLE_ONEDNN_OPTS=0`.\n",
      "2025-04-16 18:31:03.365122: I tensorflow/core/platform/cpu_feature_guard.cc:210] This TensorFlow binary is optimized to use available CPU instructions in performance-critical operations.\n",
      "To enable the following instructions: SSE4.1 SSE4.2 AVX AVX2 AVX512F AVX512_VNNI FMA, in other operations, rebuild TensorFlow with the appropriate compiler flags.\n"
     ]
    }
   ],
   "source": [
    "# ======================================================================\n",
    "# == load libraries ==\n",
    "# ======================================================================\n",
    "\n",
    "from stardist import random_label_cmap, _draw_polygons\n",
    "import pandas as pd\n",
    "import numpy as np\n",
    "import scanpy as sc\n",
    "from scipy import sparse\n",
    "import bin2cell as b2c\n",
    "from stardist.models import StarDist2D\n",
    "from csbdeep.utils import normalize\n",
    "import cv2\n",
    "import os\n",
    "import pickle\n",
    "import anndata\n",
    "import geopandas as gpd\n",
    "from tifffile import imread, imwrite\n",
    "from stardist.models import StarDist2D\n",
    "from shapely.geometry import Polygon, Point\n",
    "from shapely.affinity import scale\n",
    "from scipy.spatial.distance import pdist\n",
    "import scrublet as scr\n",
    "import itertools\n",
    "import anndata as ad\n",
    "from pandas.api.types import CategoricalDtype\n",
    "import random\n",
    "import sys\n"
   ]
  },
  {
   "cell_type": "code",
   "execution_count": 3,
   "id": "d78d37a8",
   "metadata": {},
   "outputs": [],
   "source": [
    "# ======================================================================\n",
    "# == custom function definition ==\n",
    "# ======================================================================\n",
    "\n",
    "from custom_functions import remove_destripe_artifacts, nuclei_detection, add_obs_variables, cell_geometry, max_diameter\n"
   ]
  },
  {
   "cell_type": "code",
   "execution_count": null,
   "id": "2b76244c",
   "metadata": {},
   "outputs": [],
   "source": [
    "# ======================================================================\n",
    "# == load input ==\n",
    "# ======================================================================\n",
    "\n",
    "with open(\"../../../data/Mouse_Embryo/nuclei_polys.pkl\", 'rb') as f:  # open a text file\n",
    "    polys = pickle.load(f)\n",
    "\n",
    "# adata\n",
    "adata = sc.read_h5ad(\"../../../data/Mouse_Embryo/Mouse_Embryo.h5ad\")\n",
    "\n",
    "# parquet\n",
    "tissue_position_file = \"../../../data/Mouse_Embryo/binned_outputs/square_002um/spatial/tissue_positions.parquet\"\n",
    "\n",
    "# species id\n",
    "species = \"Mm\"\n"
   ]
  },
  {
   "cell_type": "code",
   "execution_count": null,
   "id": "31fcb01d",
   "metadata": {},
   "outputs": [],
   "source": [
    "# ======================================================================\n",
    "# == processing ==\n",
    "# ======================================================================\n",
    "\n",
    "# --- preprocessing adata ---\n",
    "\n",
    "sc.pp.filter_genes(adata, min_cells=3)  # ok filtro sui geni\n",
    "sc.pp.filter_cells(adata, min_counts=0) # non filtro i pixel perchè andranno aggregati\n",
    "b2c.destripe(adata,adjust_counts=True)\n",
    "adata = remove_destripe_artifacts(adata)"
   ]
  },
  {
   "cell_type": "code",
   "execution_count": null,
   "id": "d663ac90",
   "metadata": {},
   "outputs": [],
   "source": [
    "# --- add segmentation labels to h5ad object, map stardist modeled nuclei on the adata ---\n",
    "\n",
    "adata, gdf = nuclei_detection(\n",
    "    polys = polys, adata=adata,\n",
    "    tissue_position_file = tissue_position_file\n",
    "    )\n",
    "adata.obs.id = adata.obs.id.astype(int)\n"
   ]
  },
  {
   "cell_type": "code",
   "execution_count": null,
   "id": "a61afa21",
   "metadata": {},
   "outputs": [],
   "source": [
    "# --- group nuclei based on labels \"id\" ---\n",
    "\n",
    "# species = \"Mm\"\n",
    "nuclei_grouped = b2c.bin_to_cell(adata, labels_key=\"id\", spatial_keys=[\"spatial\"])\n",
    "\n",
    "# annotate\n",
    "nuclei_grouped = add_obs_variables(nuclei_grouped, \"nucleus\", species=species)\n",
    "nuclei_grouped.obs[\"id\"] = np.array(nuclei_grouped.obs.index)\n",
    "nuclei_grouped.obs['geometry'] = gdf.loc[nuclei_grouped.obs.id]['geometry']\n",
    "nuclei_grouped.obs['max_diameter'] = [max_diameter(x) for x in nuclei_grouped.obs['geometry']]\n",
    "nuclei_grouped.obs['zero_mt'] = nuclei_grouped.obs.pct_counts_mt == 0\n",
    "print('Using ' + str(np.round(nuclei_grouped.X.sum() / adata.X.sum() * 100)) + '% of the total read counts')\n"
   ]
  },
  {
   "cell_type": "code",
   "execution_count": null,
   "id": "aa4024eb",
   "metadata": {},
   "outputs": [],
   "source": [
    "# --- remove empty nuclei and point geometries ---\n",
    "\n",
    "idx = nuclei_grouped.obs.features_per_nucleus >= 2\n",
    "print('Number of nuclei with at least 2 features: ' + str(np.sum(idx)))\n",
    "nuclei_grouped = nuclei_grouped[idx]\n",
    "idx = [geom.geom_type  == 'Polygon' for geom in nuclei_grouped.obs['geometry']]\n",
    "print('Number of nuclei with polygon geometry: ' + str(np.sum(idx)))\n",
    "nuclei_grouped = nuclei_grouped[idx]"
   ]
  },
  {
   "cell_type": "code",
   "execution_count": null,
   "id": "90f8c2b4",
   "metadata": {},
   "outputs": [],
   "source": [
    "# --- expand nuclei into cells ---\n",
    "\n",
    "# reset to \"0\" (i.e. not assigned) pixels assigned to non-valid nulclei\n",
    "adata.obs.loc[~adata.obs.id.isin(nuclei_grouped.obs.index.astype(int)),'id'] = 0\n",
    "\n",
    "# expand nuclei\n",
    "#adata.obs.id = adata.obs.id.astype(int)   # to expand needs to be numeric\n",
    "expand = 2      # 2 bins = 4 microns, forse conviene metterlo come parametro in input per fare diversi tentativi di espansione\n",
    "expansion_label = \"id_exp_\"+str(expand)\n",
    "b2c.expand_labels(adata,\n",
    "                  labels_key='id',\n",
    "                  expanded_labels_key=expansion_label,\n",
    "                  max_bin_distance = expand\n",
    "                 )\n",
    "adata.obs[expansion_label] = adata.obs[expansion_label].astype(int)\n"
   ]
  },
  {
   "cell_type": "code",
   "execution_count": null,
   "id": "861791bb",
   "metadata": {},
   "outputs": [],
   "source": [
    "# --- group cells based on labels ---\n",
    "\n",
    "expanded_nuclei = b2c.bin_to_cell(adata, labels_key=expansion_label, spatial_keys=[\"spatial\"])\n"
   ]
  },
  {
   "cell_type": "code",
   "execution_count": null,
   "id": "75fd8cbd",
   "metadata": {},
   "outputs": [],
   "source": [
    "# --- define new geometries and filter out cells (and corresponding nuclei) with non-Polygon geometry ---\n",
    "\n",
    "cell_labels = set(adata.obs[expansion_label])\n",
    "cell_labels.remove(0)\n",
    "cell_geoms = {x : cell_geometry(adata[adata.obs[expansion_label] == x].obs['geometry']) for x in cell_labels}\n",
    "idx = [geom.geom_type  == 'Polygon' for geom in cell_geoms.values()]\n",
    "print('Number of cells with polygon geometry: ' + str(np.sum(idx)))\n",
    "nuclei_grouped = nuclei_grouped[idx]\n",
    "expanded_nuclei = expanded_nuclei[idx]\n",
    "cell_geoms = {int(x) : cell_geoms[int(x)] for x in expanded_nuclei.obs_names}"
   ]
  },
  {
   "cell_type": "code",
   "execution_count": null,
   "id": "27c3de2a",
   "metadata": {},
   "outputs": [],
   "source": [
    "# --- annotate cells ---\n",
    "\n",
    "expanded_nuclei = add_obs_variables(expanded_nuclei, \"cell\", species=species)\n",
    "expanded_nuclei.obs[\"id\"] = np.array(expanded_nuclei.obs.index)\n",
    "expanded_nuclei.obs['geometry'] = [cell_geoms[int(x)] for x in expanded_nuclei.obs.index]\n",
    "expanded_nuclei.obs['max_diameter'] = [max_diameter(x) for x in expanded_nuclei.obs['geometry']]\n",
    "expanded_nuclei.obs['zero_mt'] = expanded_nuclei.obs.pct_counts_mt == 0\n",
    "print('Using ' + str(np.round(expanded_nuclei.X.sum() / adata.X.sum() * 100)) + '% of the total read counts')\n"
   ]
  },
  {
   "cell_type": "code",
   "execution_count": null,
   "id": "51e7b337",
   "metadata": {},
   "outputs": [],
   "source": [
    "# --- save geometry on disk ---\n",
    "\n",
    "nuclei_grouped_geometry = nuclei_grouped.obs['geometry']\n",
    "expanded_nuclei_geometry = expanded_nuclei.obs['geometry']\n",
    "with open(\"../../../data/Mouse_Embryo/nuclei_grouped_geometry.pkl\", \"wb\") as f:  # open a text file,\n",
    "    pickle.dump(nuclei_grouped_geometry, f),\n",
    "with open(\"../../../data/Mouse_Embryo/expanded_nuclei_geometry.pkl\", \"wb\") as f:  # open a text file,\n",
    "    pickle.dump(expanded_nuclei_geometry, f)\n"
   ]
  },
  {
   "cell_type": "code",
   "execution_count": null,
   "id": "30bedb6b",
   "metadata": {},
   "outputs": [],
   "source": [
    "# --- remove geometries and save h5ad on disk of nuclei and cells ---\n",
    "\n",
    "del nuclei_grouped.obs['geometry']\n",
    "del expanded_nuclei.obs['geometry']\n",
    "nuclei_grouped.write_h5ad(\"../../../data/Mouse_Embryo/Mouse_Embryo_nuclei_grouped.h5ad\")\n",
    "expanded_nuclei.write_h5ad(\"../../../data/Mouse_Embryo/Mouse_Embryo_expanded_nuclei.h5ad\")\n"
   ]
  }
 ],
 "metadata": {
  "kernelspec": {
   "display_name": "env_bin2cell",
   "language": "python",
   "name": "python3"
  },
  "language_info": {
   "codemirror_mode": {
    "name": "ipython",
    "version": 3
   },
   "file_extension": ".py",
   "mimetype": "text/x-python",
   "name": "python",
   "nbconvert_exporter": "python",
   "pygments_lexer": "ipython3",
   "version": "3.11.12"
  }
 },
 "nbformat": 4,
 "nbformat_minor": 5
}
