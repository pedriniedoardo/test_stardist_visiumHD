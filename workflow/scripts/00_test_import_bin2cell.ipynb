{
 "cells": [
  {
   "cell_type": "code",
   "execution_count": 1,
   "metadata": {},
   "outputs": [
    {
     "name": "stderr",
     "output_type": "stream",
     "text": [
      "anndata.py (1758): Variable names are not unique. To make them unique, call `.var_names_make_unique`.\n",
      "anndata.py (1758): Variable names are not unique. To make them unique, call `.var_names_make_unique`.\n"
     ]
    }
   ],
   "source": [
    "import sys\n",
    "import os\n",
    "import bin2cell as b2c\n",
    "\n",
    "# path of the data\n",
    "path = \"../../../data/Mouse_Embryo/binned_outputs/square_002um/\"\n",
    "\n",
    "# path of the source image\n",
    "source_image_path = \"../../../data/Mouse_Embryo/Visium_HD_Mouse_Embryo_tissue_image.btf\"\n",
    "\n",
    "adata = b2c.read_visium(path, source_image_path = source_image_path)\n",
    "\n",
    "adata.var_names_make_unique()\n",
    "\n",
    "# save the adata\n",
    "adata.write_h5ad(\"../../../data/Mouse_Embryo/Mouse_Embryo.h5ad\")\n"
   ]
  },
  {
   "cell_type": "code",
   "execution_count": 2,
   "metadata": {},
   "outputs": [
    {
     "name": "stderr",
     "output_type": "stream",
     "text": [
      "anndata.py (1758): Variable names are not unique. To make them unique, call `.var_names_make_unique`.\n",
      "anndata.py (1758): Variable names are not unique. To make them unique, call `.var_names_make_unique`.\n"
     ]
    },
    {
     "ename": "OSError",
     "evalue": "Could not find '../../output/rawData/Human_Pancreas/binned_outputs/square_002um/spatial/tissue_positions_list.csv'",
     "output_type": "error",
     "traceback": [
      "\u001b[31m---------------------------------------------------------------------------\u001b[39m",
      "\u001b[31mOSError\u001b[39m                                   Traceback (most recent call last)",
      "\u001b[36mCell\u001b[39m\u001b[36m \u001b[39m\u001b[32mIn[2]\u001b[39m\u001b[32m, line 11\u001b[39m\n\u001b[32m      8\u001b[39m \u001b[38;5;66;03m# path of the source image\u001b[39;00m\n\u001b[32m      9\u001b[39m source_image_path = \u001b[33m\"\u001b[39m\u001b[33m../../output/rawData/Human_Pancreas/rawImage.img\u001b[39m\u001b[33m\"\u001b[39m\n\u001b[32m---> \u001b[39m\u001b[32m11\u001b[39m adata = \u001b[43mb2c\u001b[49m\u001b[43m.\u001b[49m\u001b[43mread_visium\u001b[49m\u001b[43m(\u001b[49m\u001b[43mpath\u001b[49m\u001b[43m,\u001b[49m\u001b[43m \u001b[49m\u001b[43msource_image_path\u001b[49m\u001b[43m \u001b[49m\u001b[43m=\u001b[49m\u001b[43m \u001b[49m\u001b[43msource_image_path\u001b[49m\u001b[43m)\u001b[49m\n\u001b[32m     13\u001b[39m adata.var_names_make_unique()\n\u001b[32m     15\u001b[39m \u001b[38;5;66;03m# save the adata\u001b[39;00m\n",
      "\u001b[36mFile \u001b[39m\u001b[32m~/micromamba/envs/env_bin2cell/lib/python3.11/site-packages/bin2cell/bin2cell.py:697\u001b[39m, in \u001b[36mread_visium\u001b[39m\u001b[34m(path, genome, count_file, library_id, load_images, source_image_path, spaceranger_image_path)\u001b[39m\n\u001b[32m    692\u001b[39m             logg.warning(\n\u001b[32m    693\u001b[39m                 \u001b[33mf\u001b[39m\u001b[33m\"\u001b[39m\u001b[33mYou seem to be missing an image file.\u001b[39m\u001b[38;5;130;01m\\n\u001b[39;00m\u001b[33m\"\u001b[39m\n\u001b[32m    694\u001b[39m                 \u001b[33mf\u001b[39m\u001b[33m\"\u001b[39m\u001b[33mCould not find \u001b[39m\u001b[33m'\u001b[39m\u001b[38;5;132;01m{\u001b[39;00mf\u001b[38;5;132;01m}\u001b[39;00m\u001b[33m'\u001b[39m\u001b[33m.\u001b[39m\u001b[33m\"\u001b[39m\n\u001b[32m    695\u001b[39m             )\n\u001b[32m    696\u001b[39m         \u001b[38;5;28;01melse\u001b[39;00m:\n\u001b[32m--> \u001b[39m\u001b[32m697\u001b[39m             \u001b[38;5;28;01mraise\u001b[39;00m \u001b[38;5;167;01mOSError\u001b[39;00m(\u001b[33mf\u001b[39m\u001b[33m\"\u001b[39m\u001b[33mCould not find \u001b[39m\u001b[33m'\u001b[39m\u001b[38;5;132;01m{\u001b[39;00mf\u001b[38;5;132;01m}\u001b[39;00m\u001b[33m'\u001b[39m\u001b[33m\"\u001b[39m)\n\u001b[32m    699\u001b[39m adata.uns[\u001b[33m\"\u001b[39m\u001b[33mspatial\u001b[39m\u001b[33m\"\u001b[39m][library_id][\u001b[33m\"\u001b[39m\u001b[33mimages\u001b[39m\u001b[33m\"\u001b[39m] = \u001b[38;5;28mdict\u001b[39m()\n\u001b[32m    700\u001b[39m \u001b[38;5;28;01mfor\u001b[39;00m res \u001b[38;5;129;01min\u001b[39;00m [\u001b[33m\"\u001b[39m\u001b[33mhires\u001b[39m\u001b[33m\"\u001b[39m, \u001b[33m\"\u001b[39m\u001b[33mlowres\u001b[39m\u001b[33m\"\u001b[39m]:\n",
      "\u001b[31mOSError\u001b[39m: Could not find '../../output/rawData/Human_Pancreas/binned_outputs/square_002um/spatial/tissue_positions_list.csv'"
     ]
    }
   ],
   "source": [
    "import sys\n",
    "import os\n",
    "import bin2cell as b2c\n",
    "\n",
    "# path of the data\n",
    "path = \"../../output/rawData/Human_Pancreas/binned_outputs/square_002um/\"\n",
    "\n",
    "# path of the source image\n",
    "source_image_path = \"../../output/rawData/Human_Pancreas/rawImage.img\"\n",
    "\n",
    "adata = b2c.read_visium(path, source_image_path = source_image_path)\n",
    "\n",
    "adata.var_names_make_unique()\n",
    "\n",
    "# save the adata\n",
    "adata.write_h5ad(\"../../../data/test/Human_Pancreas.h5ad\")\n"
   ]
  },
  {
   "cell_type": "code",
   "execution_count": 2,
   "metadata": {},
   "outputs": [],
   "source": [
    "import anndata as ad\n",
    "test = ad.read_h5ad(\"../../output/adata/Human_Pancreas_adata.h5ad\")"
   ]
  },
  {
   "cell_type": "code",
   "execution_count": 3,
   "metadata": {},
   "outputs": [
    {
     "data": {
      "text/plain": [
       "AnnData object with n_obs × n_vars = 6680593 × 18085\n",
       "    obs: 'in_tissue', 'array_row', 'array_col'\n",
       "    var: 'gene_ids', 'feature_types', 'genome'\n",
       "    uns: 'spatial'\n",
       "    obsm: 'spatial'"
      ]
     },
     "execution_count": 3,
     "metadata": {},
     "output_type": "execute_result"
    }
   ],
   "source": [
    "test"
   ]
  }
 ],
 "metadata": {
  "kernelspec": {
   "display_name": "env_bin2cell",
   "language": "python",
   "name": "python3"
  },
  "language_info": {
   "codemirror_mode": {
    "name": "ipython",
    "version": 3
   },
   "file_extension": ".py",
   "mimetype": "text/x-python",
   "name": "python",
   "nbconvert_exporter": "python",
   "pygments_lexer": "ipython3",
   "version": "3.11.12"
  }
 },
 "nbformat": 4,
 "nbformat_minor": 2
}
