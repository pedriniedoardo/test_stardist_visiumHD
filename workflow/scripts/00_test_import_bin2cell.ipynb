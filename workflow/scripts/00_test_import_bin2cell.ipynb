{
 "cells": [
  {
   "cell_type": "code",
   "execution_count": 2,
   "metadata": {},
   "outputs": [
    {
     "name": "stderr",
     "output_type": "stream",
     "text": [
      "anndata.py (1758): Variable names are not unique. To make them unique, call `.var_names_make_unique`.\n",
      "anndata.py (1758): Variable names are not unique. To make them unique, call `.var_names_make_unique`.\n"
     ]
    }
   ],
   "source": [
    "import sys\n",
    "import os\n",
    "import bin2cell as b2c\n",
    "\n",
    "# path of the data\n",
    "path = \"../../../data/Mouse_Embryo/binned_outputs/square_002um/\"\n",
    "\n",
    "# path of the source image\n",
    "source_image_path = \"../../../data/Mouse_Embryo/Visium_HD_Mouse_Embryo_tissue_image.btf\"\n",
    "\n",
    "adata = b2c.read_visium(path, source_image_path = source_image_path)\n",
    "\n",
    "adata.var_names_make_unique()\n",
    "\n",
    "# save the adata\n",
    "adata.write_h5ad(\"../../../data/Mouse_Embryo/Mouse_Embryo.h5ad\")\n"
   ]
  },
  {
   "cell_type": "code",
   "execution_count": 3,
   "metadata": {},
   "outputs": [],
   "source": [
    "import anndata as ad\n",
    "test = ad.read_h5ad(\"../../output/adata/Human_Pancreas_adata.h5ad\")"
   ]
  },
  {
   "cell_type": "code",
   "execution_count": 4,
   "metadata": {},
   "outputs": [
    {
     "data": {
      "text/plain": [
       "AnnData object with n_obs × n_vars = 6680593 × 18085\n",
       "    obs: 'in_tissue', 'array_row', 'array_col'\n",
       "    var: 'gene_ids', 'feature_types', 'genome'\n",
       "    uns: 'spatial'\n",
       "    obsm: 'spatial'"
      ]
     },
     "execution_count": 4,
     "metadata": {},
     "output_type": "execute_result"
    }
   ],
   "source": [
    "test"
   ]
  }
 ],
 "metadata": {
  "kernelspec": {
   "display_name": "env_bin2cell",
   "language": "python",
   "name": "python3"
  },
  "language_info": {
   "codemirror_mode": {
    "name": "ipython",
    "version": 3
   },
   "file_extension": ".py",
   "mimetype": "text/x-python",
   "name": "python",
   "nbconvert_exporter": "python",
   "pygments_lexer": "ipython3",
   "version": "3.13.2"
  }
 },
 "nbformat": 4,
 "nbformat_minor": 2
}
