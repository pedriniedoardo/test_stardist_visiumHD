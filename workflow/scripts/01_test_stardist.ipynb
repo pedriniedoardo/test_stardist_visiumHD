{
 "cells": [
  {
   "cell_type": "code",
   "execution_count": 7,
   "id": "6761dc05",
   "metadata": {},
   "outputs": [],
   "source": [
    "# ======================================================================\n",
    "# == load the libraries ==\n",
    "# ======================================================================\n",
    "\n",
    "from stardist.data import test_image_nuclei_2d\n",
    "from stardist.plot import render_label\n",
    "from stardist.models import StarDist2D\n",
    "from shapely.geometry import Polygon, Point\n",
    "import matplotlib.image\n",
    "import matplotlib.pyplot as plt\n",
    "import matplotlib.image as mpimg\n",
    "import matplotlib.patches as patches\n",
    "import pandas as pd\n",
    "import numpy as np\n",
    "import seaborn as sns\n",
    "import PIL\n",
    "import tifffile\n",
    "import sys\n",
    "import pickle\n"
   ]
  },
  {
   "cell_type": "code",
   "execution_count": null,
   "id": "c30ad548",
   "metadata": {},
   "outputs": [],
   "source": [
    "# ======================================================================\n",
    "# == definition of custom functions ==\n",
    "# ======================================================================\n",
    "\n",
    "from custom_functions import custom_normalize"
   ]
  },
  {
   "cell_type": "code",
   "execution_count": 10,
   "id": "c3c67f87",
   "metadata": {},
   "outputs": [],
   "source": [
    "# ======================================================================\n",
    "# == processing ==\n",
    "# ======================================================================\n",
    "\n",
    "# --- read in the input image ---\n",
    "\n",
    "# img hires\n",
    "PIL.Image.MAX_IMAGE_PIXELS = 1718032108\n",
    "img = tifffile.imread(\"../../../data/Mouse_Embryo/Visium_HD_Mouse_Embryo_tissue_image.btf\")\n",
    "img = img[:,:,0:3]\n",
    "\n",
    "# image type\n",
    "hist_img = \"H&E\"\n",
    "\n",
    "# stardist parameters\n",
    "# prob_thresh\n",
    "# nms_thresh"
   ]
  },
  {
   "cell_type": "code",
   "execution_count": 11,
   "id": "0cbad196",
   "metadata": {},
   "outputs": [],
   "source": [
    "# --- run custom normalization ---\n",
    "\n",
    "normalized_img = custom_normalize(img)\n"
   ]
  },
  {
   "cell_type": "code",
   "execution_count": 12,
   "id": "52d0525f",
   "metadata": {},
   "outputs": [
    {
     "name": "stdout",
     "output_type": "stream",
     "text": [
      "Found model '2D_versatile_he' for 'StarDist2D'.\n",
      "Loading network weights from 'weights_best.h5'.\n",
      "Loading thresholds from 'thresholds.json'.\n",
      "Using default values: prob_thresh=0.692478, nms_thresh=0.3.\n"
     ]
    }
   ],
   "source": [
    "# --- select approprote stardist model ---\n",
    "\n",
    "if hist_img == \"H&E\":\n",
    "    model_stardist = \"2D_versatile_he\"\n",
    "elif hist_img == \"IF\":\n",
    "    model_stardist = \"2D_versatile_fluo\"\n",
    "\n",
    "model = StarDist2D.from_pretrained(model_stardist)"
   ]
  },
  {
   "cell_type": "code",
   "execution_count": 13,
   "id": "7725a9cb",
   "metadata": {},
   "outputs": [
    {
     "name": "stdout",
     "output_type": "stream",
     "text": [
      "effective: block_size=(4096, 4096, 3), min_overlap=(128, 128, 0), context=(128, 128, 0)\n"
     ]
    },
    {
     "name": "stderr",
     "output_type": "stream",
     "text": [
      "functional.py (238): The structure of `inputs` doesn't match the expected structure.\n",
      "Expected: ['input']\n",
      "Received: inputs=Tensor(shape=(1, 256, 256, 3))\n",
      "  0%|          | 0/56 [00:00<?, ?it/s]functional.py (238): The structure of `inputs` doesn't match the expected structure.\n",
      "Expected: ['input']\n",
      "Received: inputs=Tensor(shape=(1, None, None, 3))\n",
      "100%|██████████| 56/56 [13:38<00:00, 14.61s/it]\n"
     ]
    }
   ],
   "source": [
    "# --- run the model ---\n",
    "\n",
    "# here is running with default parameters for prob_thresh and nms_thresh\n",
    "labels, polys = model.predict_instances_big(\n",
    "    normalized_img, axes='YXC', block_size=4096, min_overlap=128, context=128,\n",
    "    normalizer=None, # n_tiles=(4,4,1),\n",
    "    prob_thresh = .05)"
   ]
  },
  {
   "cell_type": "code",
   "execution_count": null,
   "id": "857b78b3",
   "metadata": {},
   "outputs": [],
   "source": [
    "# ======================================================================\n",
    "# == save the output ==\n",
    "# ======================================================================\n",
    "\n",
    "with open(\"../../../data/Mouse_Embryo/nuclei_polys.pkl\", \"wb\") as f:  # open a text file\n",
    "    pickle.dump(polys, f)"
   ]
  }
 ],
 "metadata": {
  "kernelspec": {
   "display_name": "env_stardist",
   "language": "python",
   "name": "python3"
  },
  "language_info": {
   "codemirror_mode": {
    "name": "ipython",
    "version": 3
   },
   "file_extension": ".py",
   "mimetype": "text/x-python",
   "name": "python",
   "nbconvert_exporter": "python",
   "pygments_lexer": "ipython3",
   "version": "3.11.12"
  }
 },
 "nbformat": 4,
 "nbformat_minor": 5
}
