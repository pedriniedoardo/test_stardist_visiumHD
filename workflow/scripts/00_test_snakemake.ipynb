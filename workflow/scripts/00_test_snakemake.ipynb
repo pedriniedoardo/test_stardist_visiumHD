{
 "cells": [
  {
   "cell_type": "code",
   "execution_count": 10,
   "metadata": {},
   "outputs": [],
   "source": [
    "import pandas as pd\n",
    "\n",
    "df = pd.read_csv(\"../../config/VisiumHD_datasets_small.csv\")"
   ]
  },
  {
   "cell_type": "code",
   "execution_count": 14,
   "metadata": {},
   "outputs": [
    {
     "name": "stdout",
     "output_type": "stream",
     "text": [
      "(0, sample_id                                                     Mouse_Embryo\n",
      "Species                                                              Mouse\n",
      "Tissue                                                              Embryo\n",
      "Sample_type                                                           FFPE\n",
      "Histological_image                                                     H&E\n",
      "img_ext                                                                btf\n",
      "Sex                                                                      M\n",
      "Disease_state                                                      healthy\n",
      "Probe_set                                                             v2.0\n",
      "sequencing_instrument                                Illumina NovaSeq 6000\n",
      "sequencing_depth                                                    403.1M\n",
      "Space_Ranger                                                          v3.0\n",
      "age                                                                 E 15.5\n",
      "mouse_strain                                                       C57BL/6\n",
      "Ref_dataset_RCTD                                                       NaN\n",
      "notes                                                                  NaN\n",
      "link_rawImage            https://cf.10xgenomics.com/samples/spatial-exp...\n",
      "link_spatial             https://cf.10xgenomics.com/samples/spatial-exp...\n",
      "link_counts              https://cf.10xgenomics.com/samples/spatial-exp...\n",
      "Name: 0, dtype: object)\n",
      "(1, sample_id                                                   Human_Pancreas\n",
      "Species                                                              Human\n",
      "Tissue                                                            Pancreas\n",
      "Sample_type                                                           FFPE\n",
      "Histological_image                                                     H&E\n",
      "img_ext                                                                btf\n",
      "Sex                                                                      F\n",
      "Disease_state                                                      healthy\n",
      "Probe_set                                                             v2.0\n",
      "sequencing_instrument                                Illumina NovaSeq 6000\n",
      "sequencing_depth                                                      418M\n",
      "Space_Ranger                                                          v3.0\n",
      "age                                                                    NaN\n",
      "mouse_strain                                                           NaN\n",
      "Ref_dataset_RCTD                                                       NaN\n",
      "notes                                                                  NaN\n",
      "link_rawImage            https://cf.10xgenomics.com/samples/spatial-exp...\n",
      "link_spatial             https://cf.10xgenomics.com/samples/spatial-exp...\n",
      "link_counts              https://cf.10xgenomics.com/samples/spatial-exp...\n",
      "Name: 1, dtype: object)\n"
     ]
    }
   ],
   "source": [
    "for test in df.iterrows():\n",
    "    print(test)"
   ]
  },
  {
   "cell_type": "code",
   "execution_count": 11,
   "metadata": {},
   "outputs": [
    {
     "name": "stdout",
     "output_type": "stream",
     "text": [
      "Mouse_Embryo\n",
      "Human_Pancreas\n"
     ]
    }
   ],
   "source": [
    "for _,row in df.iterrows():\n",
    "    print(row[\"sample_id\"])"
   ]
  },
  {
   "cell_type": "code",
   "execution_count": 12,
   "metadata": {},
   "outputs": [],
   "source": [
    "SAMPLES = {\n",
    "    row[\"sample_id\"]: {\n",
    "        \"link_rawImage\": row[\"link_rawImage\"],\n",
    "        \"link_counts\": row[\"link_counts\"]\n",
    "    }\n",
    "    for _, row in df.iterrows()\n",
    "}\n"
   ]
  },
  {
   "cell_type": "code",
   "execution_count": 13,
   "metadata": {},
   "outputs": [
    {
     "data": {
      "text/plain": [
       "{'Mouse_Embryo': {'link_rawImage': 'https://cf.10xgenomics.com/samples/spatial-exp/3.0.0/Visium_HD_Mouse_Embryo/Visium_HD_Mouse_Embryo_tissue_image.btf',\n",
       "  'link_counts': 'https://cf.10xgenomics.com/samples/spatial-exp/3.0.0/Visium_HD_Mouse_Embryo/Visium_HD_Mouse_Embryo_binned_outputs.tar.gz'},\n",
       " 'Human_Pancreas': {'link_rawImage': 'https://cf.10xgenomics.com/samples/spatial-exp/3.0.0/Visium_HD_Human_Pancreas/Visium_HD_Human_Pancreas_tissue_image.btf',\n",
       "  'link_counts': 'https://cf.10xgenomics.com/samples/spatial-exp/3.0.0/Visium_HD_Human_Pancreas/Visium_HD_Human_Pancreas_binned_outputs.tar.gz'}}"
      ]
     },
     "execution_count": 13,
     "metadata": {},
     "output_type": "execute_result"
    }
   ],
   "source": [
    "SAMPLES"
   ]
  }
 ],
 "metadata": {
  "kernelspec": {
   "display_name": "env_snakemake",
   "language": "python",
   "name": "python3"
  },
  "language_info": {
   "codemirror_mode": {
    "name": "ipython",
    "version": 3
   },
   "file_extension": ".py",
   "mimetype": "text/x-python",
   "name": "python",
   "nbconvert_exporter": "python",
   "pygments_lexer": "ipython3",
   "version": "3.12.2"
  }
 },
 "nbformat": 4,
 "nbformat_minor": 2
}
